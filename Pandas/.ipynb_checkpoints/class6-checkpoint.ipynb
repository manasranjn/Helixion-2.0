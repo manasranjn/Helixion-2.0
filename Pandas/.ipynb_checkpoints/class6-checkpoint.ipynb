{
 "cells": [
  {
   "cell_type": "code",
   "execution_count": null,
   "id": "1a8ef4a2-1b8c-4b0f-b601-5665d428be44",
   "metadata": {},
   "outputs": [],
   "source": [
    "import pandas as pd\n",
    "df = pd.DatFrame({\n",
    "    \"City\": ['Mumbai','Mumbai','Mumbai', 'Bhubaneswar', 'Bhubaneswar', 'Bhubaneswar', 'Bengaluru','Bengaluru','Bengaluru'],\n",
    "    \"temp\": [12,13,19,41,31,40,38,29,40]"
   ]
  }
 ],
 "metadata": {
  "kernelspec": {
   "display_name": "Python 3 (ipykernel)",
   "language": "python",
   "name": "python3"
  },
  "language_info": {
   "codemirror_mode": {
    "name": "ipython",
    "version": 3
   },
   "file_extension": ".py",
   "mimetype": "text/x-python",
   "name": "python",
   "nbconvert_exporter": "python",
   "pygments_lexer": "ipython3",
   "version": "3.13.6"
  }
 },
 "nbformat": 4,
 "nbformat_minor": 5
}
