{
 "cells": [
  {
   "cell_type": "code",
   "execution_count": null,
   "id": "56e7f705-cfbf-4700-948c-1a90b34d596c",
   "metadata": {},
   "outputs": [],
   "source": []
  }
 ],
 "metadata": {
  "kernelspec": {
   "display_name": "",
   "name": ""
  },
  "language_info": {
   "name": ""
  }
 },
 "nbformat": 4,
 "nbformat_minor": 5
}
